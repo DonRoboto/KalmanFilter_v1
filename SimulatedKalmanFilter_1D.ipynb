{
  "nbformat": 4,
  "nbformat_minor": 0,
  "metadata": {
    "colab": {
      "provenance": [],
      "authorship_tag": "ABX9TyPhK6ChY1NKN6PF2/zmKobn",
      "include_colab_link": true
    },
    "kernelspec": {
      "name": "python3",
      "display_name": "Python 3"
    },
    "language_info": {
      "name": "python"
    }
  },
  "cells": [
    {
      "cell_type": "markdown",
      "metadata": {
        "id": "view-in-github",
        "colab_type": "text"
      },
      "source": [
        "<a href=\"https://colab.research.google.com/github/DonRoboto/KalmanFilter_v1/blob/main/SimulatedKalmanFilter_1D.ipynb\" target=\"_parent\"><img src=\"https://colab.research.google.com/assets/colab-badge.svg\" alt=\"Open In Colab\"/></a>"
      ]
    },
    {
      "cell_type": "code",
      "execution_count": 1,
      "metadata": {
        "id": "qgH_jxNX22W7"
      },
      "outputs": [],
      "source": [
        "\n",
        "# import math functions\n",
        "from math import *\n",
        "import matplotlib.pyplot as plt\n",
        "import numpy as np\n",
        "import random\n"
      ]
    },
    {
      "cell_type": "code",
      "source": [
        "#kalman filter 1d\n",
        "class Kalman_1D():\n",
        "\n",
        "  def __init__(self, measurement):\n",
        "    self.measurement = measurement\n",
        "  \n",
        "  def fitness(self):\n",
        "    x = self.measurement\n",
        "\n",
        "    #esfera\n",
        "    #return x**2.0\n",
        "\n",
        "    #schwefel\n",
        "    return 418.9829 - (x * np.sin(np.sqrt(np.abs(x))) )\n",
        "\n",
        "    \n",
        "  \n",
        "  def measure(self, x_true):\n",
        "    rnd = random.uniform(0, 1)\n",
        "    z = self.measurement + np.sin(rnd * 2 * np.pi) + (np.abs(self.measurement - x_true))\n",
        "    return z\n",
        "\n",
        "  def estimate(self, z, K):    \n",
        "    x_est = self.measurement + K * (z -  self.measurement )\n",
        "    return x_est"
      ],
      "metadata": {
        "id": "o5NnSvIEIwyj"
      },
      "execution_count": 2,
      "outputs": []
    },
    {
      "cell_type": "code",
      "source": [
        "class Poblacion():\n",
        "  p = []\n",
        "\n",
        "  def __init__(self, n, x_min, x_max):\n",
        "\n",
        "    for i in range(n):\n",
        "      x_1 = random.uniform(x_min, x_max)\n",
        "      ind = Kalman_1D(x_1)\n",
        "      self.p.append(ind)"
      ],
      "metadata": {
        "id": "j-NpqK2Ed6d_"
      },
      "execution_count": 3,
      "outputs": []
    },
    {
      "cell_type": "code",
      "source": [
        "v_min = -500\n",
        "v_max = 500\n",
        "n_pob = 10\n",
        "pob = Poblacion(n_pob, v_min, v_max)\n"
      ],
      "metadata": {
        "id": "i_Q2mNHEd8Am"
      },
      "execution_count": 4,
      "outputs": []
    },
    {
      "cell_type": "code",
      "source": [
        "\n",
        "f_best = 1000000\n",
        "f_true = 1000000\n",
        "\n",
        "x_best = 1000000\n",
        "x_true = 1000000\n",
        "\n",
        "for i in range(n_pob):\n",
        "  #print(pob.p[i].measurement, pob.p[i].fitness())\n",
        "  \n",
        "  if pob.p[i].fitness() < f_best:\n",
        "    x_best = pob.p[i].measurement\n",
        "    f_best = pob.p[i].fitness()\n",
        "\n",
        "  if  f_best<f_true:\n",
        "    x_true = x_best\n",
        "    f_true = f_best\n",
        "\n",
        "\n",
        "print(\"x_true: {}\".format(x_true))\n",
        "print(\"f_true: {}\".format(f_true))\n"
      ],
      "metadata": {
        "id": "5A2A5QOfOr7M",
        "outputId": "6cf2daaf-d023-4865-fc3a-dbfb6828a8c9",
        "colab": {
          "base_uri": "https://localhost:8080/"
        }
      },
      "execution_count": 5,
      "outputs": [
        {
          "output_type": "stream",
          "name": "stdout",
          "text": [
            "x_true: 60.59210358114581\n",
            "f_true: 358.5387149408954\n"
          ]
        }
      ]
    },
    {
      "cell_type": "code",
      "source": [
        "\n",
        "P = 1000\n",
        "Q = 0.5\n",
        "R = 0.5\n",
        "\n",
        "\n",
        "for t in range(10):\n",
        "   \n",
        "  P = P + Q\n",
        "  err = []\n",
        "\n",
        "  for j in range(n_pob):\n",
        "\n",
        "    z_m = pob.p[j].measure(x_true) \n",
        "    \n",
        "    #kalman gain\n",
        "    K = P/(P + R)\n",
        "   \n",
        "    x_e = pob.p[j].estimate(z_m, K)\n",
        "\n",
        "    if abs(x_e)>v_max:\n",
        "      x_e = random.uniform(v_min, v_max)\n",
        "\n",
        "    pob.p[j].measurement = x_e\n",
        "\n",
        "    err.append(np.abs(f_true - pob.p[j].fitness()))\n",
        "\n",
        "    \n",
        "    #print(pob.p[j].fitness())\n",
        "    \n",
        "    #fitness evaluation\n",
        "    if pob.p[j].fitness() < f_best:\n",
        "      x_best = pob.p[j].measurement\n",
        "      f_best = pob.p[j].fitness()\n",
        "      #x_best = pob.p[j].fitness()\n",
        "      #l_best = pob.p[j].measurement\n",
        "\n",
        "  if  f_best<f_true:\n",
        "    f_true = f_best\n",
        "    x_true = x_best\n",
        "\n",
        "  P = np.cov(err)\n",
        "  P = (1 - K) * P\n",
        "\n",
        "\n",
        "print(\"\\n\")\n",
        "print(\"x_true: {}\".format(x_true))\n",
        "print(\"f_true: {}\".format(f_true))"
      ],
      "metadata": {
        "id": "wzWWDdgmea9d",
        "outputId": "b88b6cd3-aadb-44f3-85a8-9c2965791f87",
        "colab": {
          "base_uri": "https://localhost:8080/"
        }
      },
      "execution_count": 6,
      "outputs": [
        {
          "output_type": "stream",
          "name": "stdout",
          "text": [
            "\n",
            "\n",
            "x_true: 420.9608973159971\n",
            "f_true: 2.0501393521499267e-05\n"
          ]
        }
      ]
    },
    {
      "cell_type": "code",
      "source": [
        "\n"
      ],
      "metadata": {
        "id": "ObeFYSYa3Eud"
      },
      "execution_count": 6,
      "outputs": []
    }
  ]
}