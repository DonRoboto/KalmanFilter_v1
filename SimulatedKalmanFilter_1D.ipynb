{
  "nbformat": 4,
  "nbformat_minor": 0,
  "metadata": {
    "colab": {
      "provenance": [],
      "authorship_tag": "ABX9TyN9N4CUX/rDltRbWIDBvWoV",
      "include_colab_link": true
    },
    "kernelspec": {
      "name": "python3",
      "display_name": "Python 3"
    },
    "language_info": {
      "name": "python"
    }
  },
  "cells": [
    {
      "cell_type": "markdown",
      "metadata": {
        "id": "view-in-github",
        "colab_type": "text"
      },
      "source": [
        "<a href=\"https://colab.research.google.com/github/DonRoboto/KalmanFilter_v1/blob/main/SimulatedKalmanFilter_1D.ipynb\" target=\"_parent\"><img src=\"https://colab.research.google.com/assets/colab-badge.svg\" alt=\"Open In Colab\"/></a>"
      ]
    },
    {
      "cell_type": "code",
      "execution_count": 234,
      "metadata": {
        "id": "qgH_jxNX22W7"
      },
      "outputs": [],
      "source": [
        "\n",
        "# import math functions\n",
        "from math import *\n",
        "import matplotlib.pyplot as plt\n",
        "import numpy as np\n",
        "import random\n"
      ]
    },
    {
      "cell_type": "code",
      "source": [
        "#kalman filter 1d\n",
        "class Kalman_1D():\n",
        "\n",
        "  def __init__(self, measurement):\n",
        "    self.measurement = measurement\n",
        "  \n",
        "      # the motion update/predict function\n",
        "  def fitness(self):\n",
        "    ''' This function takes in two means and two squared variance terms,\n",
        "        and returns updated gaussian parameters, after motion.'''\n",
        "    # Calculate the new parameters\n",
        "    x = self.measurement\n",
        "    return x**2.0\n",
        "    #return \n",
        "\n",
        "  def measure(self, t, x_true):\n",
        "    z = self.measurement + np.sin(t) * 2 * np.pi + (np.abs(self.measurement - x_true))\n",
        "    return z\n",
        "\n",
        "  def estimate(self, z, K):    \n",
        "    x_est = self.measurement + K * (z -  self.measurement )\n",
        "    return x_est"
      ],
      "metadata": {
        "id": "o5NnSvIEIwyj"
      },
      "execution_count": 543,
      "outputs": []
    },
    {
      "cell_type": "code",
      "source": [
        "class Poblacion():\n",
        "  p = []\n",
        "\n",
        "  def __init__(self, n, x_min, x_max):\n",
        "\n",
        "    for i in range(n):\n",
        "      x_1 = random.uniform(x_min, x_max)\n",
        "      ind = Kalman_1D(x_1)\n",
        "      self.p.append(ind)\n",
        "    "
      ],
      "metadata": {
        "id": "5A2A5QOfOr7M"
      },
      "execution_count": 561,
      "outputs": []
    },
    {
      "cell_type": "code",
      "source": [
        "v_min = -100\n",
        "v_max = 100\n",
        "n_pob = 10\n",
        "pob = Poblacion(n_pob, v_min, v_max)\n",
        "\n",
        "l_best = 1000000\n",
        "l_true = 1000000\n",
        "\n",
        "x_best = 1000000\n",
        "x_true = 1000000\n",
        "\n",
        "for i in range(n_pob):\n",
        "  print(pob.p[i].measurement, pob.p[i].fitness())\n",
        "  \n",
        "  if pob.p[i].fitness() < x_best:\n",
        "    x_best = pob.p[i].fitness()\n",
        "    l_best = pob.p[i].measurement\n",
        "\n",
        "  if  x_best<x_true:\n",
        "    x_true = x_best\n",
        "    l_true = l_best\n",
        "\n",
        "\n",
        "print(\"\\n\")\n",
        "print(\"x_best: {}\".format(x_best))\n",
        "print(\"x_true: {}\".format(x_true))"
      ],
      "metadata": {
        "colab": {
          "base_uri": "https://localhost:8080/"
        },
        "id": "oZem9VFQPEK8",
        "outputId": "0860b057-0d5f-42c7-c07a-5eddbddd00c1"
      },
      "execution_count": 562,
      "outputs": [
        {
          "output_type": "stream",
          "name": "stdout",
          "text": [
            "-45.811408576933374 2098.6851558027247\n",
            "-26.20689885729975 686.8015477167388\n",
            "36.42695538604613 1326.9230786969952\n",
            "55.43002133546278 3072.4872652498593\n",
            "-51.00057520916164 2601.058671665353\n",
            "10.425831564960887 108.69796382093479\n",
            "-21.284887657177038 453.0464425786474\n",
            "45.079031305756274 2032.1190634653542\n",
            "-39.68486932646347 1574.8888534584812\n",
            "76.10519747012648 5792.001081966947\n",
            "\n",
            "\n",
            "x_best: 108.69796382093479\n",
            "x_true: 108.69796382093479\n"
          ]
        }
      ]
    },
    {
      "cell_type": "code",
      "source": [
        "P = 1000\n",
        "Q = 0.5\n",
        "\n",
        "\n",
        "\n",
        "for t in range(1, 100, 1):\n",
        "  err = []\n",
        "  for j in range(n_pob):\n",
        "    K = P/(P + Q)\n",
        "\n",
        "    z_m = pob.p[j].measure(t, x_true)\n",
        "    x_e = pob.p[j].estimate(z_m, K)\n",
        "\n",
        "    pob.p[j].measurement = x_e\n",
        "\n",
        "    P = (1 - K) * P\n",
        "\n",
        "    err.append(np.abs(x_best - pob.p[j].fitness()))\n",
        "\n",
        "\n",
        "    \n",
        "    #fitness evaluation\n",
        "    if pob.p[j].fitness() < x_best:\n",
        "      x_best = pob.p[j].fitness()\n",
        "      l_best = pob.p[j].measurement\n",
        "\n",
        "  if  x_best<x_true:\n",
        "    x_true = x_best\n",
        "    l_true = l_best\n",
        "\n",
        "  #\n",
        "\n",
        "  cov = np.cov(err)\n",
        "  #print(cov)\n",
        "  P = cov       \n",
        "#resultado final\n",
        "\n",
        "for k in range(n_pob):\n",
        "  print(pob.p[k].measurement, pob.p[k].fitness())\n",
        "\n",
        "\n",
        "print(\"\\n\")\n",
        "print(\"l_true: {}\".format(l_true))\n",
        "print(\"x_true: {}\".format(x_true))\n"
      ],
      "metadata": {
        "colab": {
          "base_uri": "https://localhost:8080/"
        },
        "id": "iXJ79PBc23HU",
        "outputId": "56480265-cc29-44a2-9208-f8ac33b86195"
      },
      "execution_count": 563,
      "outputs": [
        {
          "output_type": "stream",
          "name": "stdout",
          "text": [
            "3.616420914654165e+31 1.3078500231948067e+63\n",
            "1246.447473214805 1553631.3034835723\n",
            "651.5736480630289 424548.2188501639\n",
            "428.838331688831 183902.31472565982\n",
            "-1.3825313501583225 1.9113929341705942\n",
            "96.06877157241472 9229.208871432798\n",
            "0.6851509734993659 0.4694318564871288\n",
            "138.7983205139678 19264.973777498137\n",
            "-7.789303837154247 60.67325426750587\n",
            "172.1583369217217 29638.49297165305\n",
            "\n",
            "\n",
            "l_true: -0.12962100851573044\n",
            "x_true: 0.016801605848635062\n"
          ]
        }
      ]
    },
    {
      "cell_type": "code",
      "source": [],
      "metadata": {
        "id": "3bNOaqVZ3Ai2"
      },
      "execution_count": 90,
      "outputs": []
    },
    {
      "cell_type": "code",
      "source": [
        "\n"
      ],
      "metadata": {
        "id": "ObeFYSYa3Eud"
      },
      "execution_count": 91,
      "outputs": []
    },
    {
      "cell_type": "code",
      "source": [
        "\n",
        "# multimodal function\n",
        "from numpy import sin\n",
        "from numpy import arange\n",
        "from matplotlib import pyplot\n",
        " \n",
        "# objective function\n",
        "def objective(x):\n",
        "\treturn sin(x) + sin((10.0 / 3.0) * x)\n",
        " \n",
        "# define range for input\n",
        "r_min, r_max = -2.7, 7.5\n",
        "# sample input range uniformly at 0.1 increments\n",
        "inputs = arange(r_min, r_max, 0.1)\n",
        "# compute targets\n",
        "results = objective(inputs)\n",
        "# create a line plot of input vs result\n",
        "pyplot.plot(inputs, results)\n",
        "# define optimal input value\n",
        "x_optima = 5.145735\n",
        "# draw a vertical line at the optimal input\n",
        "pyplot.axvline(x=x_optima, ls='--', color='red')\n",
        "# show the plot\n",
        "pyplot.show()\n",
        "\n",
        "\n",
        "print(\"optimo en ({}, {})\".format(x_optima, objective(x_optima)))"
      ],
      "metadata": {
        "colab": {
          "base_uri": "https://localhost:8080/",
          "height": 283
        },
        "id": "SmbYDmZG-A80",
        "outputId": "0b73db5a-d2c4-4315-98e0-bde828570aaf"
      },
      "execution_count": 157,
      "outputs": [
        {
          "output_type": "display_data",
          "data": {
            "text/plain": [
              "<Figure size 432x288 with 1 Axes>"
            ],
            "image/png": "[encoded data removed]"
          },
          "metadata": {
            "needs_background": "light"
          }
        },
        {
          "output_type": "stream",
          "name": "stdout",
          "text": [
            "optimo en (5.145735, -1.899599349151611)\n"
          ]
        }
      ]
    }
  ]
}