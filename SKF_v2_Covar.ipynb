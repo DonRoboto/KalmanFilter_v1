{
  "nbformat": 4,
  "nbformat_minor": 0,
  "metadata": {
    "colab": {
      "provenance": [],
      "authorship_tag": "ABX9TyMQTAceTT+RX4Jyk/N3eQ39",
      "include_colab_link": true
    },
    "kernelspec": {
      "name": "python3",
      "display_name": "Python 3"
    },
    "language_info": {
      "name": "python"
    }
  },
  "cells": [
    {
      "cell_type": "markdown",
      "metadata": {
        "id": "view-in-github",
        "colab_type": "text"
      },
      "source": [
        "<a href=\"https://colab.research.google.com/github/DonRoboto/KalmanFilter_v1/blob/main/SKF_v2_Covar.ipynb\" target=\"_parent\"><img src=\"https://colab.research.google.com/assets/colab-badge.svg\" alt=\"Open In Colab\"/></a>"
      ]
    },
    {
      "cell_type": "code",
      "execution_count": 1,
      "metadata": {
        "colab": {
          "base_uri": "https://localhost:8080/"
        },
        "id": "sOzD_L-cu-8t",
        "outputId": "0e52066c-388c-4b1c-fb84-df39ec6671ac"
      },
      "outputs": [
        {
          "output_type": "stream",
          "name": "stdout",
          "text": [
            "Looking in indexes: https://pypi.org/simple, https://us-python.pkg.dev/colab-wheels/public/simple/\n",
            "Requirement already satisfied: bitstring in /usr/local/lib/python3.7/dist-packages (3.1.9)\n"
          ]
        }
      ],
      "source": [
        "!pip install bitstring"
      ]
    },
    {
      "cell_type": "code",
      "source": [
        "import numpy as np\n",
        "import random\n",
        "import bitstring as bits\n",
        "from sympy import *\n",
        "import scipy, pylab"
      ],
      "metadata": {
        "id": "jNSHOaSyvBtZ"
      },
      "execution_count": 2,
      "outputs": []
    },
    {
      "cell_type": "code",
      "source": [
        "x = Symbol('x')\n",
        "y = Symbol('y')\n",
        "\n",
        "#f1 = (4*x)**2 + (4*y)**2\n",
        "f1 = (x-5)**2 + (y-5)**2"
      ],
      "metadata": {
        "id": "UhR0F5MSvDHh"
      },
      "execution_count": 3,
      "outputs": []
    },
    {
      "cell_type": "code",
      "source": [
        "class Individuo():\n",
        "    \n",
        "    #inicializar con valores aleatorios\n",
        "    def __init__(self, i, x='', y=''):\n",
        "      self.i = i\n",
        "      self.z_x = 0\n",
        "      self.z_y = 0\n",
        "\n",
        "      self.x_gorro=0\n",
        "      self.y_gorro=0\n",
        "\n",
        "      if x!='':\n",
        "        self.f_x = float(x)        \n",
        "        self.f_y = float(y)        \n",
        "      else:\n",
        "        self.f_x = random.uniform(-500, 500)        \n",
        "        self.f_y = random.uniform(-500, 500)\n",
        "                \n",
        "      #convertir las coordenadas de posicion a binario\n",
        "      self.cromosomas()\n",
        "\n",
        "    #coordenadas como coromosomas\n",
        "    def cromosomas(self):\n",
        "        aux_f_x = bits.BitArray(float=self.f_x, length=32)\n",
        "        aux_f_y = bits.BitArray(float=self.f_y, length=32)\n",
        "        \n",
        "        self.b_x = list(aux_f_x.bin)\n",
        "        self.b_y = list(aux_f_y.bin)\n",
        "         \n",
        "    #funcion de aptitud\n",
        "    def fitness(self):\n",
        "      func_1 = f1\n",
        "      #func_2 = f2\n",
        "\n",
        "      self.cromosomas()\n",
        "\n",
        "      r1_1 = ''.join(self.b_x)\n",
        "      r1_2 = ''.join(self.b_y)\n",
        "      \n",
        "      r2_1 = bits.BitArray(bin=r1_1).float\n",
        "      r2_2 = bits.BitArray(bin=r1_2).float\n",
        "      \n",
        "      result_1 = func_1.subs([(x, r2_1), (y, r2_2)]).doit()\n",
        "      #result_2 = func_2.subs([(x, r2_1), (y, r2_2)]).doit()\n",
        "\n",
        "      #return result_1, result_2\n",
        "      return result_1\n",
        "      \n",
        "\n",
        "    #posicion actual\n",
        "    def posicion(self):\n",
        "      x = self.f_x\n",
        "      y = self.f_y\n",
        "           \n",
        "      return x, y"
      ],
      "metadata": {
        "id": "u1tjtf-du_ld"
      },
      "execution_count": 4,
      "outputs": []
    },
    {
      "cell_type": "code",
      "source": [
        "class Poblacion():\n",
        "  p = []\n",
        "\n",
        "  def __init__(self, n=''):\n",
        "    self.p = []\n",
        "    if n!='':\n",
        "      for k in range(n):\n",
        "        i=Individuo(i=k)\n",
        "        self.p.append(i)"
      ],
      "metadata": {
        "id": "WOBCplcnXAET"
      },
      "execution_count": 5,
      "outputs": []
    },
    {
      "cell_type": "code",
      "source": [
        "pos_test = []\n",
        "seq_test = []\n",
        "n_pob = 30\n",
        "#random.seed(4)\n",
        "pob1 = Poblacion(n_pob)\n",
        "\n",
        "for i in range(n_pob):\n",
        "  #fit1, fit2 = pob1.p[i].fitness()\n",
        "  x1, y1 = pob1.p[i].posicion()   \n",
        "  fit1 = pob1.p[i].fitness()\n",
        "  #seq_test.append([round(fit1, 2), round(fit2, 2)])   \n",
        "  pos_test.append([round(x1, 2), round(y1, 2)])   \n",
        "  seq_test.append([round(fit1, 2)])   \n",
        "  #print(fit1)\n",
        "  #print(fit2)\n",
        "  #print(\"\\n\")\n",
        "\n",
        "print(pos_test)\n",
        "print(seq_test)\n",
        "\n"
      ],
      "metadata": {
        "colab": {
          "base_uri": "https://localhost:8080/"
        },
        "id": "oKaYsUBDXPEz",
        "outputId": "3542d272-8eaa-4de0-c763-d1ba9fd750b5"
      },
      "execution_count": 6,
      "outputs": [
        {
          "output_type": "stream",
          "name": "stdout",
          "text": [
            "[[-404.8, 296.73], [-372.35, 422.16], [119.15, 271.72], [-478.75, 100.92], [315.39, -181.92], [-17.81, 231.23], [169.21, 63.48], [458.78, -376.89], [-71.39, -404.94], [-363.85, -329.58], [-264.71, 60.58], [122.64, -491.59], [-330.85, -153.83], [274.7, 56.59], [-432.59, -192.43], [387.07, 343.21], [111.09, -135.61], [324.81, 406.73], [409.97, 263.02], [12.3, -334.01], [445.57, -130.86], [497.67, -245.78], [241.39, 464.72], [-137.4, -142.64], [375.44, 261.16], [416.6, 297.61], [309.09, -228.88], [305.46, 403.93], [-446.19, -445.38], [-193.39, -266.72]]\n",
            "[[253039.06], [316410.55], [84168.67], [243218.90], [131281.98], [51702.64], [30386.65], [351750.02], [173887.04], [247994.91], [75833.21], [260440.18], [138021.37], [75398.09], [230464.73], [260360.67], [31027.03], [263663.45], [230569.41], [114983.56], [212557.45], [305620.65], [267222.53], [42075.81], [202848.06], [255038.19], [147168.97], [249420.91], [406420.29], [113192.45]]\n"
          ]
        }
      ]
    },
    {
      "cell_type": "code",
      "source": [
        "#prediction and prediction noise covariance\n",
        "Px = 1000\n",
        "Py = 1000\n",
        "Q = 0.5\n",
        "R = 0.5\n",
        "\n",
        "#los best (minimizar)\n",
        "f_true = 1000000\n",
        "x_true = 1000000\n",
        "y_true = 1000000\n",
        "\n",
        "\n",
        "n_time = 50\n",
        "for t in range(n_time):\n",
        "\n",
        "  for i in range(n_pob):    \n",
        "    if pob1.p[i].fitness()<f_true:\n",
        "      f_true = pob1.p[i].fitness()\n",
        "      x_true = pob1.p[i].f_x\n",
        "      y_true = pob1.p[i].f_y\n",
        "      \n",
        "  for i in range(n_pob):\n",
        "    #predict\n",
        "    pob1.p[i].x_gorro = pob1.p[i].f_x    \n",
        "    pob1.p[i].y_gorro = pob1.p[i].f_y    \n",
        "    Px = Px + Q\n",
        "    Py = Py + Q\n",
        "\n",
        "    #measure\n",
        "    rnd_x = random.uniform(0, 1)\n",
        "    rnd_y = random.uniform(0, 1)\n",
        "    pob1.p[i].z_x = pob1.p[i].x_gorro + np.sin(rnd_x * 2 * np.pi) * np.abs(pob1.p[i].x_gorro-x_true)\n",
        "    pob1.p[i].z_y = pob1.p[i].y_gorro + np.sin(rnd_y * 2 * np.pi) * np.abs(pob1.p[i].y_gorro-y_true)\n",
        "    \n",
        "    #estimate and update the agents’ position\n",
        "    Kx = Px / (Px + R)\n",
        "    Ky = Py / (Py + R)\n",
        "    pob1.p[i].f_x = pob1.p[i].x_gorro + Kx * (pob1.p[i].z_x - pob1.p[i].x_gorro)\n",
        "    pob1.p[i].f_y = pob1.p[i].y_gorro + Ky * (pob1.p[i].z_y - pob1.p[i].y_gorro)\n",
        "\n",
        "\n",
        "  #calcular el error covariance matrix\n",
        "  errx = []\n",
        "  erry = []\n",
        "  for e in range(n_pob):\n",
        "    errx.append(pob1.p[i].f_x-x_true)\n",
        "    erry.append(pob1.p[i].f_y-y_true)\n",
        "\n",
        "  Px = np.cov(errx)\n",
        "  Py = np.cov(erry)\n",
        "\n",
        "  Px = (1-Kx)*Px\n",
        "  Py = (1-Ky)*Py\n",
        "\n",
        "  #print(x_true)\n",
        "  print(f_true)\n"
      ],
      "metadata": {
        "colab": {
          "base_uri": "https://localhost:8080/"
        },
        "id": "fZ1YfeMhPKKO",
        "outputId": "6fa5b38e-e1b9-410d-ed7e-daec4eaba341"
      },
      "execution_count": 7,
      "outputs": [
        {
          "output_type": "stream",
          "name": "stdout",
          "text": [
            "30386.6506111082\n",
            "9354.39664978982\n",
            "4224.97434844294\n",
            "4224.97434844294\n",
            "1008.70104693525\n",
            "286.414770971922\n",
            "286.414770971922\n",
            "127.147215654004\n",
            "7.55333903372434\n",
            "7.55333903372434\n",
            "7.55333903372434\n",
            "7.55333903372434\n",
            "7.55333903372434\n",
            "7.55333903372434\n",
            "6.18330237760443\n",
            "6.18330237760443\n",
            "6.18330237760443\n",
            "6.18330237760443\n",
            "0.672726755178019\n",
            "0.672726755178019\n",
            "0.579370071460517\n",
            "0.0405324275948260\n",
            "0.0405324275948260\n",
            "0.0405324275948260\n",
            "0.0405324275948260\n",
            "0.0118222177266034\n",
            "0.00151415145887768\n",
            "0.00151415145887768\n",
            "0.00151415145887768\n",
            "0.000642110704802690\n",
            "0.000642110704802690\n",
            "0.000642110704802690\n",
            "0.000404151095835914\n",
            "0.000116232120490167\n",
            "6.46099078949192e-5\n",
            "1.33897033265384e-5\n",
            "8.25954998617817e-6\n",
            "1.78385039362183e-6\n",
            "1.78385039362183e-6\n",
            "1.78385039362183e-6\n",
            "1.46503521136765e-6\n",
            "1.00745751296927e-6\n",
            "1.00745751296927e-6\n",
            "1.00745751296927e-6\n",
            "2.33777427638415e-7\n",
            "2.33777427638415e-7\n",
            "2.33777427638415e-7\n",
            "2.33756964007625e-7\n",
            "1.67420921570738e-7\n",
            "1.51032963913167e-8\n"
          ]
        }
      ]
    },
    {
      "cell_type": "code",
      "source": [],
      "metadata": {
        "id": "V2th3XTMvZ7B"
      },
      "execution_count": 7,
      "outputs": []
    },
    {
      "cell_type": "code",
      "source": [],
      "metadata": {
        "id": "kbsBlVNSvc29"
      },
      "execution_count": 7,
      "outputs": []
    }
  ]
}