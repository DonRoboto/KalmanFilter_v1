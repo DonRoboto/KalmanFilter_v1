{
  "nbformat": 4,
  "nbformat_minor": 0,
  "metadata": {
    "colab": {
      "provenance": [],
      "authorship_tag": "ABX9TyOMPO84dZb5lMMQgxzkJHbe",
      "include_colab_link": true
    },
    "kernelspec": {
      "name": "python3",
      "display_name": "Python 3"
    },
    "language_info": {
      "name": "python"
    }
  },
  "cells": [
    {
      "cell_type": "markdown",
      "metadata": {
        "id": "view-in-github",
        "colab_type": "text"
      },
      "source": [
        "<a href=\"https://colab.research.google.com/github/DonRoboto/KalmanFilter_v1/blob/main/SimulatedKalmanFilter_2D.ipynb\" target=\"_parent\"><img src=\"https://colab.research.google.com/assets/colab-badge.svg\" alt=\"Open In Colab\"/></a>"
      ]
    },
    {
      "cell_type": "code",
      "execution_count": 1,
      "metadata": {
        "id": "RK1-RHN73AlV"
      },
      "outputs": [],
      "source": [
        "\n",
        "# import math functions\n",
        "from math import *\n",
        "import matplotlib.pyplot as plt\n",
        "import numpy as np\n",
        "import random"
      ]
    },
    {
      "cell_type": "code",
      "source": [
        "#kalman filter 1d\n",
        "class Kalman_1D():\n",
        "\n",
        "  def __init__(self, x, y):\n",
        "    self.x = x\n",
        "    self.y = y\n",
        "\n",
        "\n",
        "  def fitness(self):\n",
        "    x = self.x\n",
        "    y = self.y\n",
        "\n",
        "    #Sphere\n",
        "    #return x**2.0 + y**2\n",
        "\n",
        "    #Schwefel\n",
        "    #return (418.9829 * 2) -  ( (x * np.sin(np.sqrt(np.abs(x))) ) +  (y * np.sin(np.sqrt(np.abs(y))) ) )\n",
        "\n",
        "    #Rastrigin \n",
        "    #return (10*2) + ( (x**2 - (10*np.cos(2*np.pi*x))) + (y**2 - (10*np.cos(2*np.pi*y))))\n",
        "\n",
        "    #Ackley\n",
        "    return -20 * np.exp(-0.2*np.sqrt(0.5*(x**2+y**2)) ) - exp(0.5*(np.cos(2*np.pi*x)+np.cos(2*np.pi*y))) + np.e + 20\n",
        "\n",
        "    \n",
        "  \n",
        "  def measure(self, x_true, y_true):\n",
        "    rnd_x = random.uniform(0, 1)\n",
        "    rnd_y = random.uniform(0, 1)\n",
        "\n",
        "    z_x = self.x + np.sin(rnd_x * 2 * np.pi) + (np.abs(self.x - x_true))\n",
        "    z_y = self.y + np.sin(rnd_y * 2 * np.pi) + (np.abs(self.y - y_true))\n",
        "    return z_x, z_y\n",
        "\n",
        "  def estimate(self, z_x, z_y, K):    \n",
        "    x_est = self.x + K * (z_x -  self.x )\n",
        "    y_est = self.y + K * (z_y -  self.y )\n",
        "    return x_est, y_est"
      ],
      "metadata": {
        "id": "sDaPHC3n3MRX"
      },
      "execution_count": 2,
      "outputs": []
    },
    {
      "cell_type": "code",
      "source": [
        "class Poblacion():\n",
        "  p = []\n",
        "\n",
        "  def __init__(self, n, x_min, x_max):\n",
        "\n",
        "    for i in range(n):\n",
        "      x_1 = random.uniform(x_min, x_max)\n",
        "      y_1 = random.uniform(x_min, x_max)\n",
        "      ind = Kalman_1D(x_1, y_1)\n",
        "      self.p.append(ind)"
      ],
      "metadata": {
        "id": "ca4Pu0mM3zT-"
      },
      "execution_count": 3,
      "outputs": []
    },
    {
      "cell_type": "code",
      "source": [
        "v_min = -500\n",
        "v_max = 500\n",
        "n_pob = 50\n",
        "pob = Poblacion(n_pob, v_min, v_max)"
      ],
      "metadata": {
        "id": "3Dz5WZOt39m9"
      },
      "execution_count": 4,
      "outputs": []
    },
    {
      "cell_type": "code",
      "source": [
        "\n",
        "f_best = 1000000\n",
        "f_true = 1000000\n",
        "\n",
        "x_best = 1000000\n",
        "y_best = 1000000\n",
        "\n",
        "x_true = 1000000\n",
        "y_true = 1000000\n",
        "\n",
        "for i in range(n_pob):\n",
        "  \n",
        "  if pob.p[i].fitness() < f_best:\n",
        "    x_best = pob.p[i].x\n",
        "    y_best = pob.p[i].y\n",
        "    f_best = pob.p[i].fitness()\n",
        "\n",
        "  if  f_best<f_true:\n",
        "    x_true = x_best\n",
        "    y_true = y_best\n",
        "    f_true = f_best\n",
        "\n",
        "\n",
        "print(\"x_true: {}\".format(x_true))\n",
        "print(\"y_true: {}\".format(y_true))\n",
        "print(\"f_true: {}\".format(f_true))"
      ],
      "metadata": {
        "colab": {
          "base_uri": "https://localhost:8080/"
        },
        "id": "sacCHapg4KvG",
        "outputId": "8ff9cc75-1fb2-4830-95ff-b7856104abc2"
      },
      "execution_count": 5,
      "outputs": [
        {
          "output_type": "stream",
          "name": "stdout",
          "text": [
            "x_true: 416.036311514551\n",
            "y_true: 146.0132631923476\n",
            "f_true: 20.039645478991865\n"
          ]
        }
      ]
    },
    {
      "cell_type": "code",
      "source": [
        "\n",
        "P = 1000\n",
        "Q = 0.5\n",
        "R = 0.5\n",
        "\n",
        "\n",
        "for t in range(100):\n",
        "   \n",
        "  P = P + Q\n",
        "  err = []\n",
        "\n",
        "  for j in range(n_pob):\n",
        "\n",
        "    z_x, z_y = pob.p[j].measure(x_true, y_true) \n",
        "    \n",
        "    #kalman gain\n",
        "    K = P/(P + R)\n",
        "   \n",
        "    x_e, y_e = pob.p[j].estimate(z_x, z_y, K)\n",
        "\n",
        "    if abs(x_e)>v_max:\n",
        "      x_e = random.uniform(v_min, v_max)\n",
        "    if abs(y_e)>v_max:\n",
        "      y_e = random.uniform(v_min, v_max)\n",
        "\n",
        "    pob.p[j].x = x_e\n",
        "    pob.p[j].y = y_e\n",
        "\n",
        "    err.append(np.abs(f_true - pob.p[j].fitness()))\n",
        "\n",
        "    #fitness evaluation\n",
        "    if pob.p[j].fitness() < f_best:\n",
        "      x_best = pob.p[j].x\n",
        "      y_best = pob.p[j].y\n",
        "      f_best = pob.p[j].fitness()\n",
        "\n",
        "\n",
        "    if  f_best<f_true:\n",
        "      f_true = f_best\n",
        "      x_true = x_best\n",
        "      y_true = y_best\n",
        "\n",
        "  P = np.cov(err)\n",
        "  P = (1 - K) * P\n",
        "\n",
        "\n",
        "print(\"\\n\")\n",
        "print(\"x_true: {}\".format(x_true))\n",
        "print(\"y_true: {}\".format(y_true))\n",
        "print(\"f_true: {}\".format(f_true))"
      ],
      "metadata": {
        "colab": {
          "base_uri": "https://localhost:8080/"
        },
        "id": "KP6-Rqtl3_1J",
        "outputId": "6e6a816a-4d92-44bf-b377-8c24c2e7feaa"
      },
      "execution_count": 6,
      "outputs": [
        {
          "output_type": "stream",
          "name": "stdout",
          "text": [
            "\n",
            "\n",
            "x_true: -0.012611487879711891\n",
            "y_true: 0.08445800309087859\n",
            "f_true: 0.42469742363402574\n"
          ]
        }
      ]
    }
  ]
}