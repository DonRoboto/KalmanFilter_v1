{
  "nbformat": 4,
  "nbformat_minor": 0,
  "metadata": {
    "colab": {
      "provenance": [],
      "authorship_tag": "ABX9TyOcXHcL9VjB9tBq9HTeLlbQ",
      "include_colab_link": true
    },
    "kernelspec": {
      "name": "python3",
      "display_name": "Python 3"
    },
    "language_info": {
      "name": "python"
    }
  },
  "cells": [
    {
      "cell_type": "markdown",
      "metadata": {
        "id": "view-in-github",
        "colab_type": "text"
      },
      "source": [
        "<a href=\"https://colab.research.google.com/github/DonRoboto/KalmanFilter_v1/blob/main/FilterKalman_1D_v2.ipynb\" target=\"_parent\"><img src=\"https://colab.research.google.com/assets/colab-badge.svg\" alt=\"Open In Colab\"/></a>"
      ]
    },
    {
      "cell_type": "code",
      "execution_count": 1,
      "metadata": {
        "id": "5FUoUjUpIzj-"
      },
      "outputs": [],
      "source": [
        "\n",
        "# import math functions\n",
        "from math import *\n",
        "import matplotlib.pyplot as plt\n",
        "import numpy as np\n",
        "import random"
      ]
    },
    {
      "cell_type": "code",
      "source": [
        "#kalman filter 1d\n",
        "class Kalman_1D():\n",
        "\n",
        "  def __init__(self, x):\n",
        "    self.x_est = x\n",
        "    self.x_prd = 0\n",
        "    self.P = 1000\n",
        "    self.z = 0\n",
        "    self.K = 0\n",
        "    self.fit = 1000000\n",
        "  "
      ],
      "metadata": {
        "id": "c8Gbw_a6I0wU"
      },
      "execution_count": 2,
      "outputs": []
    },
    {
      "cell_type": "code",
      "source": [
        "def fitness(x):\n",
        "  #Sphere\n",
        "  #f = x**2.0\n",
        "\n",
        "  f = 418.9829 - (x * np.sin((np.sqrt(np.abs(x) ) ) ) )\n",
        "  #return f\n",
        "\n",
        "  #Rastrigin \n",
        "  #f = 10 + (x**2 - (10*np.cos(2*np.pi*x)))\n",
        "  return f\n",
        "\n"
      ],
      "metadata": {
        "id": "PFqtfZmCeKMv"
      },
      "execution_count": 3,
      "outputs": []
    },
    {
      "cell_type": "code",
      "source": [
        "class Poblacion():\n",
        "  p = []\n",
        "\n",
        "  def __init__(self, n, x_min, x_max):\n",
        "\n",
        "    for i in range(n):\n",
        "      x_1 = random.uniform(x_min, x_max)\n",
        "      ind = Kalman_1D(x_1)\n",
        "      self.p.append(ind)"
      ],
      "metadata": {
        "id": "_eKF1TwhJHzn"
      },
      "execution_count": 4,
      "outputs": []
    },
    {
      "cell_type": "code",
      "source": [
        "v_min = -500\n",
        "v_max = 500\n",
        "n_pob = 10\n",
        "\n",
        "f_best = 1000000\n",
        "f_true = 1000000\n",
        "\n",
        "x_best = 1000000\n",
        "x_true = 1000000\n",
        "\n",
        "pob = Poblacion(n_pob, v_min, v_max)\n",
        "\n",
        "for v in range(n_pob):\n",
        "  print(pob.p[v].x_est)"
      ],
      "metadata": {
        "colab": {
          "base_uri": "https://localhost:8080/"
        },
        "id": "bAjXUQdmJLKP",
        "outputId": "904cb40e-3667-46f3-9849-4531dc1612f9"
      },
      "execution_count": 5,
      "outputs": [
        {
          "output_type": "stream",
          "name": "stdout",
          "text": [
            "-355.31039892920626\n",
            "-345.3211629229506\n",
            "-28.374934001193594\n",
            "439.4439761915054\n",
            "-113.24570398658307\n",
            "-42.254394866343205\n",
            "-415.0004567916622\n",
            "-78.08735079274521\n",
            "-124.21002438940599\n",
            "-463.8385421732376\n"
          ]
        }
      ]
    },
    {
      "cell_type": "code",
      "source": [
        "\n",
        "Q = 0.5\n",
        "R = 0.5\n",
        "\n",
        "\n",
        "for t in range(10):\n",
        "   \n",
        "  #evaluar el fitness de los agentes\n",
        "  for f in range(n_pob):\n",
        "    pob.p[f].f = fitness(pob.p[f].x_est)\n",
        "\n",
        "  \n",
        "  #actualizar x_best y x_true\n",
        "  for b in range(n_pob):    \n",
        "    if pob.p[b].f < f_best:\n",
        "      x_best = pob.p[b].x_est\n",
        "      f_best = pob.p[b].f\n",
        "\n",
        "    if f_best<f_true:\n",
        "      x_true = x_best\n",
        "      f_true = f_best\n",
        "\n",
        "\n",
        "  #predict (the current predicted state, is assumed to be the estimated value)\n",
        "  for p in range(n_pob):\n",
        "    pob.p[p].x_prd = pob.p[p].x_est\n",
        "    pob.p[p].P = pob.p[p].P + Q\n",
        "\n",
        "\n",
        "  #measure\n",
        "  for m in range(n_pob):\n",
        "    r = random.uniform(0, 1)\n",
        "    pob.p[m].z = pob.p[m].x_prd + np.sin(r * 2 * np.pi) * np.abs(pob.p[m].x_prd -  x_true)\n",
        "\n",
        "  #estimate\n",
        "  for e in range(n_pob):\n",
        "    pob.p[e].K = pob.p[e].P / (pob.p[e].P + R)\n",
        "    pob.p[e].x_est = pob.p[e].x_prd + pob.p[e].K * (pob.p[e].z - pob.p[e].x_prd) \n",
        "    pob.p[e].P = (1 - pob.p[e].K) * pob.p[e].P\n",
        "\n",
        "    #si sale del rango\n",
        "    if np.abs(pob.p[e].x_est)>v_max:\n",
        "      pob.p[e].x_est = random.uniform(v_min, v_max)\n",
        "      print(pob.p[e].x_est)\n",
        "\n",
        "\n",
        "print(\"\\n\")\n",
        "print(\"x_true: {}\".format(x_true))\n",
        "print(\"f_true: {}\".format(f_true))\n"
      ],
      "metadata": {
        "colab": {
          "base_uri": "https://localhost:8080/"
        },
        "id": "wozMhPAKJOSz",
        "outputId": "5c7fe3d3-5d8e-4dd6-c33b-238316ba6b79"
      },
      "execution_count": 6,
      "outputs": [
        {
          "output_type": "stream",
          "name": "stdout",
          "text": [
            "365.1482197846476\n",
            "-271.408365644991\n",
            "362.62675121238783\n",
            "\n",
            "\n",
            "x_true: 422.2911835286768\n",
            "f_true: 0.2207804368518964\n"
          ]
        }
      ]
    },
    {
      "cell_type": "code",
      "source": [],
      "metadata": {
        "id": "lLF4TAX1esUJ"
      },
      "execution_count": 6,
      "outputs": []
    },
    {
      "cell_type": "code",
      "source": [
        "from numpy import arange\n",
        "from scipy.optimize import minimize_scalar\n",
        "from matplotlib import pyplot\n",
        " \n",
        "\n",
        "# minimize the function\n",
        "#result = minimize_scalar(fitness, method='brent')\n",
        "# summarize the result\n",
        "\n",
        "# define the range\n",
        "r_min, r_max = -500, 500\n",
        "# prepare inputs\n",
        "inputs = arange(r_min, r_max, 0.1)\n",
        "# compute targets\n",
        "targets = [fitness(x) for x in inputs]\n",
        "# plot inputs vs target\n",
        "pyplot.plot(inputs, targets, '--')\n",
        "# plot the optima\n",
        "pyplot.plot([x_true], [f_true], 's', color='r')\n",
        "# show the plot\n",
        "pyplot.show()"
      ],
      "metadata": {
        "id": "g3B9wO32entE",
        "colab": {
          "base_uri": "https://localhost:8080/",
          "height": 265
        },
        "outputId": "eaf1a9f4-698e-4dd7-8012-03083526e00e"
      },
      "execution_count": 7,
      "outputs": [
        {
          "output_type": "display_data",
          "data": {
            "text/plain": [
              "<Figure size 432x288 with 1 Axes>"
            ],
            "image/png": "[encoded data removed]"
          },
          "metadata": {
            "needs_background": "light"
          }
        }
      ]
    }
  ]
}