{
  "nbformat": 4,
  "nbformat_minor": 0,
  "metadata": {
    "colab": {
      "provenance": [],
      "authorship_tag": "ABX9TyMQ3RhZ971qq9KTHJ/i/cmg",
      "include_colab_link": true
    },
    "kernelspec": {
      "name": "python3",
      "display_name": "Python 3"
    },
    "language_info": {
      "name": "python"
    }
  },
  "cells": [
    {
      "cell_type": "markdown",
      "metadata": {
        "id": "view-in-github",
        "colab_type": "text"
      },
      "source": [
        "<a href=\"https://colab.research.google.com/github/DonRoboto/KalmanFilter_v1/blob/main/FilterKalman_1D_v2.ipynb\" target=\"_parent\"><img src=\"https://colab.research.google.com/assets/colab-badge.svg\" alt=\"Open In Colab\"/></a>"
      ]
    },
    {
      "cell_type": "code",
      "execution_count": 1,
      "metadata": {
        "id": "5FUoUjUpIzj-"
      },
      "outputs": [],
      "source": [
        "\n",
        "# import math functions\n",
        "from math import *\n",
        "import matplotlib.pyplot as plt\n",
        "import numpy as np\n",
        "import random"
      ]
    },
    {
      "cell_type": "code",
      "source": [
        "#kalman filter 1d\n",
        "class Kalman_1D():\n",
        "\n",
        "  def __init__(self, x):\n",
        "    self.x_est = x\n",
        "    self.x_prd = 0\n",
        "    self.P = 1000\n",
        "    self.z = 0\n",
        "    self.K = 0\n",
        "    self.fit = 1000000\n",
        "  "
      ],
      "metadata": {
        "id": "c8Gbw_a6I0wU"
      },
      "execution_count": 2,
      "outputs": []
    },
    {
      "cell_type": "code",
      "source": [
        "def fitness(x):\n",
        "  #Sphere\n",
        "  #f = x**2.0\n",
        "\n",
        "  f = 418.9829 - (x * np.sin((np.sqrt(np.abs(x) ) ) ) )\n",
        "  return f\n",
        "\n",
        "  #Rastrigin \n",
        "  #f = 10 + (x**2 - (10*np.cos(2*np.pi*x)))\n",
        "  #return f\n",
        "\n"
      ],
      "metadata": {
        "id": "PFqtfZmCeKMv"
      },
      "execution_count": 3,
      "outputs": []
    },
    {
      "cell_type": "code",
      "source": [
        "class Poblacion():\n",
        "  p = []\n",
        "\n",
        "  def __init__(self, n, x_min, x_max):\n",
        "\n",
        "    for i in range(n):\n",
        "      x_1 = random.uniform(x_min, x_max)\n",
        "      ind = Kalman_1D(x_1)\n",
        "      self.p.append(ind)"
      ],
      "metadata": {
        "id": "_eKF1TwhJHzn"
      },
      "execution_count": 4,
      "outputs": []
    },
    {
      "cell_type": "code",
      "source": [
        "v_min = -500\n",
        "v_max = 500\n",
        "n_pob = 5\n",
        "\n",
        "f_best = 1000000\n",
        "f_true = 1000000\n",
        "\n",
        "x_best = 1000000\n",
        "x_true = 1000000\n",
        "\n",
        "pob = Poblacion(n_pob, v_min, v_max)\n",
        "\n",
        "for v in range(n_pob):\n",
        "  print(pob.p[v].x_est)"
      ],
      "metadata": {
        "colab": {
          "base_uri": "https://localhost:8080/"
        },
        "id": "bAjXUQdmJLKP",
        "outputId": "7729e50b-56df-4968-dea3-0bf92b883690"
      },
      "execution_count": 5,
      "outputs": [
        {
          "output_type": "stream",
          "name": "stdout",
          "text": [
            "-327.7297871560768\n",
            "346.1798604054618\n",
            "-135.74452608234844\n",
            "-71.44360010790427\n",
            "-330.3244954448866\n"
          ]
        }
      ]
    },
    {
      "cell_type": "code",
      "source": [
        "\n",
        "Q = 0.5\n",
        "R = 0.5\n",
        "\n",
        "\n",
        "for t in range(100):\n",
        "   \n",
        "  #evaluar el fitness de los agentes\n",
        "  for f in range(n_pob):\n",
        "    pob.p[f].f = fitness(pob.p[f].x_est)\n",
        "\n",
        "  \n",
        "  #actualizar x_best y x_true\n",
        "  for b in range(n_pob):    \n",
        "    if pob.p[b].f < f_best:\n",
        "      x_best = pob.p[b].x_est\n",
        "      f_best = pob.p[b].f\n",
        "\n",
        "    if f_best<f_true:\n",
        "      x_true = x_best\n",
        "      f_true = f_best\n",
        "\n",
        "\n",
        "  #predict (the current predicted state, is assumed to be the estimated value)\n",
        "  for p in range(n_pob):\n",
        "    pob.p[p].x_prd = pob.p[p].x_est\n",
        "    pob.p[p].P = pob.p[p].P + Q\n",
        "\n",
        "\n",
        "  #measure\n",
        "  for m in range(n_pob):\n",
        "    r = random.uniform(0, 1)\n",
        "    pob.p[m].z = pob.p[m].x_prd + np.sin(r * 2 * np.pi) * np.abs(pob.p[m].x_prd -  x_true)\n",
        "\n",
        "  #estimate\n",
        "  for e in range(n_pob):\n",
        "    pob.p[e].K = pob.p[e].P / (pob.p[e].P + R)\n",
        "    pob.p[e].x_est = pob.p[e].x_prd + pob.p[e].K * (pob.p[e].z - pob.p[e].x_prd) \n",
        "    pob.p[e].P = (1 - pob.p[e].K) * pob.p[e].P\n",
        "\n",
        "    #si sale del rango\n",
        "    if np.abs(pob.p[e].x_est)>v_max:\n",
        "      pob.p[e].x_est = random.uniform(v_min, v_max)\n",
        "      print(pob.p[e].x_est)\n",
        "\n",
        "\n",
        "print(\"\\n\")\n",
        "print(\"x_true: {}\".format(x_true))\n",
        "print(\"f_true: {}\".format(f_true))\n"
      ],
      "metadata": {
        "colab": {
          "base_uri": "https://localhost:8080/"
        },
        "id": "wozMhPAKJOSz",
        "outputId": "d4a6279d-228e-4588-b565-782dee17c649"
      },
      "execution_count": 6,
      "outputs": [
        {
          "output_type": "stream",
          "name": "stdout",
          "text": [
            "85.31093438319704\n",
            "221.95876521625348\n",
            "\n",
            "\n",
            "x_true: -302.52493525986057\n",
            "f_true: 118.43834734200414\n"
          ]
        }
      ]
    },
    {
      "cell_type": "code",
      "source": [],
      "metadata": {
        "id": "lLF4TAX1esUJ"
      },
      "execution_count": 6,
      "outputs": []
    },
    {
      "cell_type": "code",
      "source": [
        "\n"
      ],
      "metadata": {
        "id": "g3B9wO32entE"
      },
      "execution_count": 6,
      "outputs": []
    }
  ]
}